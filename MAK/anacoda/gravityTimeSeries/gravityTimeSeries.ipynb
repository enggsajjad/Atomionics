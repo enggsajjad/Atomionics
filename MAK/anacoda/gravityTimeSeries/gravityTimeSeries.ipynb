{
 "cells": [
  {
   "cell_type": "code",
   "execution_count": 1,
   "metadata": {
    "colab": {
     "base_uri": "https://localhost:8080/",
     "height": 208
    },
    "executionInfo": {
     "elapsed": 749,
     "status": "error",
     "timestamp": 1620983890571,
     "user": {
      "displayName": "Ravi Kumar",
      "photoUrl": "",
      "userId": "12869895845837524795"
     },
     "user_tz": -480
    },
    "id": "pfsbqiKSYLb2",
    "outputId": "df0a60c6-20a6-4843-8f6a-cc1b8aafb8dc"
   },
   "outputs": [],
   "source": [
    "import numpy as np\n",
    "#This files contains tidal data Harmonics obtained for the period 1st January 2020 to 1st Febraury 2020 \n",
    "#f=open(\"https://drive.google.com/file/d/1aJ9-yN7red24Zo9CuOxFSZckto02oEDS/view?usp=sharing\",\"+r\").readlines()\n",
    "f=open(\"harmonic_dict.txt\",\"+r\").readlines()"
   ]
  },
  {
   "cell_type": "code",
   "execution_count": 2,
   "metadata": {
    "executionInfo": {
     "elapsed": 1178,
     "status": "aborted",
     "timestamp": 1620983700484,
     "user": {
      "displayName": "Ravi Kumar",
      "photoUrl": "",
      "userId": "12869895845837524795"
     },
     "user_tz": -480
    },
    "id": "ZJdYF6LrYLcE"
   },
   "outputs": [],
   "source": [
    "harArr=np.asarray([np.asarray([row.split()[2:][i] for i in range(3)]) for row in f[2:]])"
   ]
  },
  {
   "cell_type": "code",
   "execution_count": 3,
   "metadata": {
    "executionInfo": {
     "elapsed": 1178,
     "status": "aborted",
     "timestamp": 1620983700485,
     "user": {
      "displayName": "Ravi Kumar",
      "photoUrl": "",
      "userId": "12869895845837524795"
     },
     "user_tz": -480
    },
    "id": "QTBa6DKFYLcP"
   },
   "outputs": [],
   "source": [
    "harArr=np.asarray([np.asarray([float(elem.replace('D','E')) for elem in line]) for line in harArr])"
   ]
  },
  {
   "cell_type": "code",
   "execution_count": 4,
   "metadata": {
    "executionInfo": {
     "elapsed": 1177,
     "status": "aborted",
     "timestamp": 1620983700486,
     "user": {
      "displayName": "Ravi Kumar",
      "photoUrl": "",
      "userId": "12869895845837524795"
     },
     "user_tz": -480
    },
    "id": "Xa93qb_IYLcX"
   },
   "outputs": [
    {
     "data": {
      "text/plain": [
       "(44, 3)"
      ]
     },
     "execution_count": 4,
     "metadata": {},
     "output_type": "execute_result"
    }
   ],
   "source": [
    "harArr.shape"
   ]
  },
  {
   "cell_type": "code",
   "execution_count": 5,
   "metadata": {
    "executionInfo": {
     "elapsed": 1179,
     "status": "aborted",
     "timestamp": 1620983700489,
     "user": {
      "displayName": "Ravi Kumar",
      "photoUrl": "",
      "userId": "12869895845837524795"
     },
     "user_tz": -480
    },
    "id": "bHQXY3FmYLch"
   },
   "outputs": [],
   "source": [
    "timeStart=631108800# time elapsed from epoch in secs date-1st January 2020 epoch-1st January 2000\n",
    "timeStop=timeStart+24*60*60*31# time elapsed from epoch in secs 1st February 2020\n",
    "intvl=int((timeStop-timeStart)/60)\n",
    "t=np.linspace(timeStart,timeStop,intvl)"
   ]
  },
  {
   "cell_type": "code",
   "execution_count": 6,
   "metadata": {
    "executionInfo": {
     "elapsed": 1175,
     "status": "aborted",
     "timestamp": 1620983700489,
     "user": {
      "displayName": "Ravi Kumar",
      "photoUrl": "",
      "userId": "12869895845837524795"
     },
     "user_tz": -480
    },
    "id": "0IJ2TIT1YLco"
   },
   "outputs": [
    {
     "data": {
      "text/plain": [
       "44640"
      ]
     },
     "execution_count": 6,
     "metadata": {},
     "output_type": "execute_result"
    }
   ],
   "source": [
    "len(t)"
   ]
  },
  {
   "cell_type": "code",
   "execution_count": 7,
   "metadata": {
    "executionInfo": {
     "elapsed": 1174,
     "status": "aborted",
     "timestamp": 1620983700490,
     "user": {
      "displayName": "Ravi Kumar",
      "photoUrl": "",
      "userId": "12869895845837524795"
     },
     "user_tz": -480
    },
    "id": "LRGtY-yNYLcw"
   },
   "outputs": [],
   "source": [
    "tidalDispTimeSer=np.zeros([17,len(t)])"
   ]
  },
  {
   "cell_type": "code",
   "execution_count": 8,
   "metadata": {
    "executionInfo": {
     "elapsed": 1172,
     "status": "aborted",
     "timestamp": 1620983700490,
     "user": {
      "displayName": "Ravi Kumar",
      "photoUrl": "",
      "userId": "12869895845837524795"
     },
     "user_tz": -480
    },
    "id": "7A6ecriEYLc1"
   },
   "outputs": [
    {
     "data": {
      "text/plain": [
       "(44640,)"
      ]
     },
     "execution_count": 8,
     "metadata": {},
     "output_type": "execute_result"
    }
   ],
   "source": [
    "tidalDispTimeSer[0].shape"
   ]
  },
  {
   "cell_type": "markdown",
   "metadata": {
    "id": "0Aak9DuxYLc7"
   },
   "source": [
    "The files ATOM0_tidalDisp.txt,ATOM1_tidalDisp.txt contain the cosine and sine tidal height amplitude data along up, east and north directions. While the harmonic_dict.txt data helps in determining the phases of the various harmonics. The cosine and sine of the harmonics are multiplied with the associated amplitudes and the sequence is summed over the harmonics listed in the dictionary. All this data files ATOMn_tidalDisp.txt and harmonic_dict.txt has been extracted from the harpos file \"cm_loading_toc_fes2014b_harmod.hps\". The tidal displacement height data is obtained for 16 different locations neighbouring the Atomionics lab location. One will find the files ATOM0 to ATOM16 in the folder."
   ]
  },
  {
   "cell_type": "code",
   "execution_count": 9,
   "metadata": {
    "executionInfo": {
     "elapsed": 1170,
     "status": "aborted",
     "timestamp": 1620983700490,
     "user": {
      "displayName": "Ravi Kumar",
      "photoUrl": "",
      "userId": "12869895845837524795"
     },
     "user_tz": -480
    },
    "id": "tfjeH8KAYLc-"
   },
   "outputs": [],
   "source": [
    "for i in range(17):\n",
    "    g=open(\"ATOM%s_tidalDisp.txt\"%(i)).readlines()\n",
    "    AmpArr=np.asarray([np.asarray([float(elem) for elem in line.split()[3:]]) for line in g[2:]])\n",
    "    tidalDispTimeSer[i]=np.asarray([np.sum(AmpArr[:,0]*np.cos(harArr[:,0]+harArr[:,1]*time+0.5*harArr[:,2]*time**2)+AmpArr[:,3]*np.sin(harArr[:,0]+harArr[:,1]*time+0.5*harArr[:,2]*time**2)) for time in t])"
   ]
  },
  {
   "cell_type": "markdown",
   "metadata": {
    "id": "MsBjYt8uYLdL"
   },
   "source": [
    "The gravity load green function are obtained from the load and potential love numbers generated from the python based software LoadDef created by Prof. Hilary Martens. The love numbers are based on the PREM model. The documentation is provided in a pdf folder. I have obtained the green function for the angular distances between 16 different stations around the Atomionics lab. And have computed the convolution integral given in eq. 1  https://agupubs.onlinelibrary.wiley.com/doi/pdf/10.1029/2002JB002050."
   ]
  },
  {
   "cell_type": "code",
   "execution_count": 10,
   "metadata": {
    "executionInfo": {
     "elapsed": 1171,
     "status": "aborted",
     "timestamp": 1620983700492,
     "user": {
      "displayName": "Ravi Kumar",
      "photoUrl": "",
      "userId": "12869895845837524795"
     },
     "user_tz": -480
    },
    "id": "_MGQI_UfYLdO"
   },
   "outputs": [],
   "source": [
    "h=open(\"GF.txt\",'+r').readlines()\n",
    "GF=np.asarray([np.asarray([int(line.split()[0]),float(line.split()[1])]) for line in h])\n",
    "    "
   ]
  },
  {
   "cell_type": "code",
   "execution_count": 11,
   "metadata": {
    "executionInfo": {
     "elapsed": 1170,
     "status": "aborted",
     "timestamp": 1620983700492,
     "user": {
      "displayName": "Ravi Kumar",
      "photoUrl": "",
      "userId": "12869895845837524795"
     },
     "user_tz": -480
    },
    "id": "9ewdlFXdYLdW"
   },
   "outputs": [],
   "source": [
    "GF.view('i8,i8').sort(order=['f0'], axis=0)"
   ]
  },
  {
   "cell_type": "code",
   "execution_count": 12,
   "metadata": {
    "executionInfo": {
     "elapsed": 1167,
     "status": "aborted",
     "timestamp": 1620983700492,
     "user": {
      "displayName": "Ravi Kumar",
      "photoUrl": "",
      "userId": "12869895845837524795"
     },
     "user_tz": -480
    },
    "id": "MAikBgRyYLdb"
   },
   "outputs": [
    {
     "data": {
      "text/plain": [
       "array([[  1.   , -88.674],\n",
       "       [  2.   , -94.539],\n",
       "       [  3.   , -75.429],\n",
       "       [  4.   , -74.179],\n",
       "       [  5.   , -76.457],\n",
       "       [  6.   , -77.891],\n",
       "       [  7.   , -66.293],\n",
       "       [  8.   , -61.698],\n",
       "       [  9.   , -61.539],\n",
       "       [ 10.   , -59.356],\n",
       "       [ 11.   , -69.254],\n",
       "       [ 12.   , -67.019],\n",
       "       [ 13.   , -40.597],\n",
       "       [ 14.   , -46.439],\n",
       "       [ 15.   , -47.732],\n",
       "       [ 16.   , -66.266]])"
      ]
     },
     "execution_count": 12,
     "metadata": {},
     "output_type": "execute_result"
    }
   ],
   "source": [
    "GF"
   ]
  },
  {
   "cell_type": "code",
   "execution_count": 13,
   "metadata": {
    "executionInfo": {
     "elapsed": 1167,
     "status": "aborted",
     "timestamp": 1620983700493,
     "user": {
      "displayName": "Ravi Kumar",
      "photoUrl": "",
      "userId": "12869895845837524795"
     },
     "user_tz": -480
    },
    "id": "Jm7d3AcLYLdi"
   },
   "outputs": [],
   "source": [
    "import re\n",
    "import numpy as np\n",
    "def dms2dd(degrees, minutes, seconds, direction):\n",
    "    dd = float(degrees) + float(minutes)/60 + float(seconds)/(60*60);\n",
    "    if direction == 'E' or direction == 'N':\n",
    "        dd *= -1\n",
    "    return dd;\n",
    "\n",
    "def dd2dms(deg):\n",
    "    d = int(deg)\n",
    "    md = abs(deg - d) * 60\n",
    "    m = int(md)\n",
    "    sd = (md - m) * 60\n",
    "    return [d, m, sd]\n",
    "\n",
    "def parse_dms(dms):\n",
    "    parts = re.split('-', dms)\n",
    "    lat = dms2dd(parts[0], parts[1], parts[2], parts[3])\n",
    "\n",
    "    return (lat)"
   ]
  },
  {
   "cell_type": "code",
   "execution_count": 14,
   "metadata": {
    "executionInfo": {
     "elapsed": 1167,
     "status": "aborted",
     "timestamp": 1620983700494,
     "user": {
      "displayName": "Ravi Kumar",
      "photoUrl": "",
      "userId": "12869895845837524795"
     },
     "user_tz": -480
    },
    "id": "rivFOoouYLdn"
   },
   "outputs": [],
   "source": [
    "f=open('LatLongSing.txt',\"+r\").readlines()\n",
    "CoordsDMS=[[line.split(' ')[4:][0]]+[line.split(' ')[4:][1][:-1]] for line in f]\n",
    "deg_lat=np.asarray([parse_dms(Coords[0]) for Coords in CoordsDMS])\n",
    "deg_long=np.asarray([parse_dms(Coords[1]) for Coords in CoordsDMS])"
   ]
  },
  {
   "cell_type": "code",
   "execution_count": 15,
   "metadata": {
    "executionInfo": {
     "elapsed": 1167,
     "status": "aborted",
     "timestamp": 1620983700495,
     "user": {
      "displayName": "Ravi Kumar",
      "photoUrl": "",
      "userId": "12869895845837524795"
     },
     "user_tz": -480
    },
    "id": "EO8vyvBmYLdt"
   },
   "outputs": [],
   "source": [
    "DthetaDlambda=(np.max(deg_lat)-np.min(deg_lat))*(np.max(deg_long)-np.min(deg_long))/(16*16)"
   ]
  },
  {
   "cell_type": "code",
   "execution_count": 16,
   "metadata": {
    "executionInfo": {
     "elapsed": 1164,
     "status": "aborted",
     "timestamp": 1620983700495,
     "user": {
      "displayName": "Ravi Kumar",
      "photoUrl": "",
      "userId": "12869895845837524795"
     },
     "user_tz": -480
    },
    "id": "JlJMxkZLYLdy"
   },
   "outputs": [
    {
     "data": {
      "text/plain": [
       "0.0002937614654342979"
      ]
     },
     "execution_count": 16,
     "metadata": {},
     "output_type": "execute_result"
    }
   ],
   "source": [
    "DthetaDlambda"
   ]
  },
  {
   "cell_type": "code",
   "execution_count": 17,
   "metadata": {
    "executionInfo": {
     "elapsed": 1163,
     "status": "aborted",
     "timestamp": 1620983700495,
     "user": {
      "displayName": "Ravi Kumar",
      "photoUrl": "",
      "userId": "12869895845837524795"
     },
     "user_tz": -480
    },
    "id": "MKXoKO0oYLd2"
   },
   "outputs": [],
   "source": [
    "gravityDisp= np.sum(tidalDispTimeSer[1:].T*GF[:,1],axis=1)*DthetaDlambda"
   ]
  },
  {
   "cell_type": "code",
   "execution_count": 18,
   "metadata": {
    "executionInfo": {
     "elapsed": 1161,
     "status": "aborted",
     "timestamp": 1620983700496,
     "user": {
      "displayName": "Ravi Kumar",
      "photoUrl": "",
      "userId": "12869895845837524795"
     },
     "user_tz": -480
    },
    "id": "2-ffJzIAYLd8"
   },
   "outputs": [
    {
     "data": {
      "text/plain": [
       "array([-0.00162268, -0.0016155 , -0.00160825, ..., -0.00133803,\n",
       "       -0.00133094, -0.0013238 ])"
      ]
     },
     "execution_count": 18,
     "metadata": {},
     "output_type": "execute_result"
    }
   ],
   "source": [
    "gravityDisp"
   ]
  },
  {
   "cell_type": "markdown",
   "metadata": {
    "id": "ZTfIb01dYLeB"
   },
   "source": [
    "Below we display the gravity offset(from 9.81m/s2) time series data. For the period of 31 days from 1st january 2019 to 1st january 2020. "
   ]
  },
  {
   "cell_type": "code",
   "execution_count": 19,
   "metadata": {
    "executionInfo": {
     "elapsed": 1157,
     "status": "aborted",
     "timestamp": 1620983700496,
     "user": {
      "displayName": "Ravi Kumar",
      "photoUrl": "",
      "userId": "12869895845837524795"
     },
     "user_tz": -480
    },
    "id": "wPrDdNS4YLeD"
   },
   "outputs": [
    {
     "data": {
      "image/png": "[encoded data removed]",
      "text/plain": [
       "<Figure size 432x288 with 1 Axes>"
      ]
     },
     "metadata": {
      "needs_background": "light"
     },
     "output_type": "display_data"
    }
   ],
   "source": [
    "import matplotlib.pyplot as plt\n",
    "figure,ax=plt.subplots(1,1)\n",
    "plt.rcParams['figure.figsize']=[10,5]\n",
    "ax.plot((t-t.min())/(24*60*60),gravityDisp)\n",
    "ax.set_xlabel(\"days past from 1st Jan 2020\",fontsize=20)\n",
    "ax.set_ylabel(\"gravity displacement\",fontsize=20)\n",
    "ax.tick_params(labelsize=15)"
   ]
  },
  {
   "cell_type": "code",
   "execution_count": 20,
   "metadata": {
    "executionInfo": {
     "elapsed": 1156,
     "status": "aborted",
     "timestamp": 1620983700497,
     "user": {
      "displayName": "Ravi Kumar",
      "photoUrl": "",
      "userId": "12869895845837524795"
     },
     "user_tz": -480
    },
    "id": "evK_Z7DeYLeI"
   },
   "outputs": [
    {
     "data": {
      "text/plain": [
       "2678400.0"
      ]
     },
     "execution_count": 20,
     "metadata": {},
     "output_type": "execute_result"
    }
   ],
   "source": [
    "t.max()-t.min()"
   ]
  },
  {
   "cell_type": "code",
   "execution_count": null,
   "metadata": {
    "executionInfo": {
     "elapsed": 1155,
     "status": "aborted",
     "timestamp": 1620983700497,
     "user": {
      "displayName": "Ravi Kumar",
      "photoUrl": "",
      "userId": "12869895845837524795"
     },
     "user_tz": -480
    },
    "id": "9AKSrteeYLeL"
   },
   "outputs": [],
   "source": []
  }
 ],
 "metadata": {
  "colab": {
   "name": "gravityTimeSeries.ipynb",
   "provenance": []
  },
  "kernelspec": {
   "display_name": "Python 3",
   "language": "python",
   "name": "python3"
  },
  "language_info": {
   "codemirror_mode": {
    "name": "ipython",
    "version": 3
   },
   "file_extension": ".py",
   "mimetype": "text/x-python",
   "name": "python",
   "nbconvert_exporter": "python",
   "pygments_lexer": "ipython3",
   "version": "3.8.5"
  }
 },
 "nbformat": 4,
 "nbformat_minor": 1
}
