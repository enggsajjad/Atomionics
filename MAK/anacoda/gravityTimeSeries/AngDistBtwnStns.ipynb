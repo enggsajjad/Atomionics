{
 "cells": [
  {
   "cell_type": "code",
   "execution_count": 1,
   "metadata": {},
   "outputs": [],
   "source": [
    "import re\n",
    "import numpy as np\n",
    "def dms2dd(degrees, minutes, seconds, direction):\n",
    "    dd = float(degrees) + float(minutes)/60 + float(seconds)/(60*60);\n",
    "    if direction == 'E' or direction == 'N':\n",
    "        dd *= -1\n",
    "    return dd;\n",
    "\n",
    "def dd2dms(deg):\n",
    "    d = int(deg)\n",
    "    md = abs(deg - d) * 60\n",
    "    m = int(md)\n",
    "    sd = (md - m) * 60\n",
    "    return [d, m, sd]\n",
    "\n",
    "def parse_dms(dms):\n",
    "    parts = re.split('-', dms)\n",
    "    lat = dms2dd(parts[0], parts[1], parts[2], parts[3])\n",
    "\n",
    "    return (lat)\n",
    "\n",
    "dd = parse_dms(\"01-17-07.00000-N\")\n",
    "\n",
    "#print(dd)"
   ]
  },
  {
   "cell_type": "code",
   "execution_count": 2,
   "metadata": {},
   "outputs": [],
   "source": [
    "f=open('LatLongSing.txt',\"+r\").readlines()"
   ]
  },
  {
   "cell_type": "code",
   "execution_count": 3,
   "metadata": {},
   "outputs": [],
   "source": [
    "CoordsDMS=[[line.split(' ')[4:][0]]+[line.split(' ')[4:][1][:-1]] for line in f]"
   ]
  },
  {
   "cell_type": "code",
   "execution_count": 4,
   "metadata": {},
   "outputs": [],
   "source": [
    "\n",
    "deg_lat=np.asarray([parse_dms(Coords[0]) for Coords in CoordsDMS])\n",
    "deg_long=np.asarray([parse_dms(Coords[1]) for Coords in CoordsDMS])"
   ]
  },
  {
   "cell_type": "code",
   "execution_count": 5,
   "metadata": {},
   "outputs": [],
   "source": [
    "deg=np.dstack([deg_lat,deg_long])[0]"
   ]
  },
  {
   "cell_type": "code",
   "execution_count": 6,
   "metadata": {},
   "outputs": [
    {
     "data": {
      "text/plain": [
       "array([[  -1.28527778, -103.81133333],\n",
       "       [  -1.26504155, -103.82904053],\n",
       "       [  -1.28941141, -103.8256073 ],\n",
       "       [  -1.29558965, -103.7562561 ],\n",
       "       [  -1.34226917, -103.79608154],\n",
       "       [  -1.28048727, -103.86474609],\n",
       "       [  -1.24684982, -103.84380341],\n",
       "       [  -1.293187  , -103.89015198],\n",
       "       [  -1.33265876, -103.89083862],\n",
       "       [  -1.3669815 , -103.8558197 ],\n",
       "       [  -1.34982019, -103.73497009],\n",
       "       [  -1.23037418, -103.76586914],\n",
       "       [  -1.22076334, -103.85375977],\n",
       "       [  -1.30314081, -104.01237488],\n",
       "       [  -1.42670191, -103.87641907],\n",
       "       [  -1.15760556, -103.88671875],\n",
       "       [  -1.29696259, -103.73291016]])"
      ]
     },
     "execution_count": 6,
     "metadata": {},
     "output_type": "execute_result"
    }
   ],
   "source": [
    "deg"
   ]
  },
  {
   "cell_type": "code",
   "execution_count": 7,
   "metadata": {},
   "outputs": [],
   "source": [
    "# Python 3 program to calculate Distance Between Two Points on Earth \n",
    "from math import radians, cos, sin, asin, sqrt \n",
    "def AngDist(lat1, lat2, lon1, lon2): \n",
    "# The math module contains a function named \n",
    "# radians which converts from degrees to radians. \n",
    "    lon1 = radians(lon1) \n",
    "    lon2 = radians(lon2) \n",
    "    lat1 = radians(lat1) \n",
    "    lat2 = radians(lat2) \n",
    "# Haversine formula \n",
    "    dlon = lon2 - lon1 \n",
    "    dlat = lat2 - lat1 \n",
    "    a = sin(dlat / 2)**2 + cos(lat1) * cos(lat2) * sin(dlon / 2)**2\n",
    "\n",
    "    c = 2 * asin(sqrt(a)) \n",
    "    \n",
    "    return(c*180/(np.pi)) "
   ]
  },
  {
   "cell_type": "code",
   "execution_count": 8,
   "metadata": {},
   "outputs": [],
   "source": [
    "distsInDegs=np.asarray([AngDist(deg[0][0],deg[i][0],deg[0][1],deg[i][1]) for i in range(1,len(deg))])\n",
    "#np.size(distsInDegs)"
   ]
  },
  {
   "cell_type": "code",
   "execution_count": 9,
   "metadata": {},
   "outputs": [
    {
     "data": {
      "text/plain": [
       "array([ 1,  0,  5,  4,  2,  3, 10, 11,  6, 15,  7,  8,  9, 14, 13, 12],\n",
       "      dtype=int64)"
      ]
     },
     "execution_count": 9,
     "metadata": {},
     "output_type": "execute_result"
    }
   ],
   "source": [
    "np.argsort(distsInDegs)"
   ]
  },
  {
   "cell_type": "code",
   "execution_count": 10,
   "metadata": {},
   "outputs": [],
   "source": [
    "#print([deg[:,0],deg[:,1]])\n",
    "dist_compile=np.dstack([deg[0:16,0],deg[0:16,1],distsInDegs])"
   ]
  },
  {
   "cell_type": "code",
   "execution_count": 11,
   "metadata": {},
   "outputs": [
    {
     "data": {
      "text/plain": [
       "array([[-1.28527778e+00, -1.03811333e+02,  2.68866929e-02],\n",
       "       [-1.26504155e+00, -1.03829041e+02,  1.48569927e-02],\n",
       "       [-1.28941141e+00, -1.03825607e+02,  5.60205099e-02],\n",
       "       [-1.29558965e+00, -1.03756256e+02,  5.89958803e-02],\n",
       "       [-1.34226917e+00, -1.03796082e+02,  5.36138230e-02],\n",
       "       [-1.28048727e+00, -1.03864746e+02,  5.03040637e-02],\n",
       "       [-1.24684982e+00, -1.03843803e+02,  7.91946316e-02],\n",
       "       [-1.29318700e+00, -1.03890152e+02,  9.25351234e-02],\n",
       "       [-1.33265876e+00, -1.03890839e+02,  9.30240583e-02],\n",
       "       [-1.36698150e+00, -1.03855820e+02,  9.99699147e-02],\n",
       "       [-1.34982019e+00, -1.03734970e+02,  7.12769377e-02],\n",
       "       [-1.23037418e+00, -1.03765869e+02,  7.72091584e-02],\n",
       "       [-1.22076334e+00, -1.03853760e+02,  2.01782485e-01],\n",
       "       [-1.30314081e+00, -1.04012375e+02,  1.55674539e-01],\n",
       "       [-1.42670191e+00, -1.03876419e+02,  1.48258461e-01],\n",
       "       [-1.15760556e+00, -1.03886719e+02,  7.92692065e-02]])"
      ]
     },
     "execution_count": 11,
     "metadata": {},
     "output_type": "execute_result"
    }
   ],
   "source": [
    "dist_compile[0]"
   ]
  },
  {
   "cell_type": "code",
   "execution_count": 12,
   "metadata": {},
   "outputs": [],
   "source": [
    "import numpy as np"
   ]
  },
  {
   "cell_type": "code",
   "execution_count": 13,
   "metadata": {},
   "outputs": [
    {
     "data": {
      "text/plain": [
       "0.9997484058579017"
      ]
     },
     "execution_count": 13,
     "metadata": {},
     "output_type": "execute_result"
    }
   ],
   "source": [
    "np.sin(np.pi/2.-(np.pi/180.)*deg[0][0])"
   ]
  },
  {
   "cell_type": "code",
   "execution_count": 14,
   "metadata": {},
   "outputs": [
    {
     "data": {
      "text/plain": [
       "array([0.99974841, 0.99975627, 0.99974678, 0.99974435, 0.9997256 ,\n",
       "       0.99975028, 0.99976322, 0.9997453 , 0.99972952, 0.9997154 ,\n",
       "       0.9997225 , 0.99976944, 0.99977303, 0.99974136, 0.99968999,\n",
       "       0.99979591, 0.99974381])"
      ]
     },
     "execution_count": 14,
     "metadata": {},
     "output_type": "execute_result"
    }
   ],
   "source": [
    "np.sin(np.pi/2.-(np.pi/180.)*deg[:,0])"
   ]
  },
  {
   "cell_type": "code",
   "execution_count": null,
   "metadata": {},
   "outputs": [],
   "source": []
  }
 ],
 "metadata": {
  "kernelspec": {
   "display_name": "Python 3",
   "language": "python",
   "name": "python3"
  },
  "language_info": {
   "codemirror_mode": {
    "name": "ipython",
    "version": 3
   },
   "file_extension": ".py",
   "mimetype": "text/x-python",
   "name": "python",
   "nbconvert_exporter": "python",
   "pygments_lexer": "ipython3",
   "version": "3.8.5"
  }
 },
 "nbformat": 4,
 "nbformat_minor": 2
}
